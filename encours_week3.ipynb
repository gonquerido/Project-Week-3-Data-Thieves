{
  "nbformat": 4,
  "nbformat_minor": 0,
  "metadata": {
    "colab": {
      "name": "encours_week3.ipynb",
      "provenance": [],
      "collapsed_sections": [],
      "authorship_tag": "ABX9TyPiPn+3EGd15llkEVGPucBx",
      "include_colab_link": true
    },
    "kernelspec": {
      "name": "python3",
      "display_name": "Python 3"
    },
    "language_info": {
      "name": "python"
    }
  },
  "cells": [
    {
      "cell_type": "markdown",
      "metadata": {
        "id": "view-in-github",
        "colab_type": "text"
      },
      "source": [
        "<a href=\"https://colab.research.google.com/github/jorgevsbra/Project-Week-3-Data-Thieves/blob/master/encours_week3.ipynb\" target=\"_parent\"><img src=\"https://colab.research.google.com/assets/colab-badge.svg\" alt=\"Open In Colab\"/></a>"
      ]
    },
    {
      "cell_type": "code",
      "metadata": {
        "id": "UG25hn1E18Xf"
      },
      "source": [
        "from bs4 import BeautifulSoup\n",
        "import requests"
      ],
      "execution_count": 132,
      "outputs": []
    },
    {
      "cell_type": "code",
      "metadata": {
        "colab": {
          "base_uri": "https://localhost:8080/"
        },
        "id": "UvOHKpua2FaX",
        "outputId": "2d606e7c-cbaf-4cf4-e7f8-63ef1305bed8"
      },
      "source": [
        "url = (\"https://www.numbeo.com/cost-of-living/rankings_by_country.jsp?title=2021&displayColumn=0\")\n",
        "\n",
        "response = requests.get(url)\n",
        "response"
      ],
      "execution_count": 133,
      "outputs": [
        {
          "output_type": "execute_result",
          "data": {
            "text/plain": [
              "<Response [200]>"
            ]
          },
          "metadata": {
            "tags": []
          },
          "execution_count": 133
        }
      ]
    },
    {
      "cell_type": "code",
      "metadata": {
        "colab": {
          "base_uri": "https://localhost:8080/"
        },
        "id": "Pps3NJRi2Fy9",
        "outputId": "211c42cc-cf2d-4370-eda9-54e8a12fad65"
      },
      "source": [
        "response.content"
      ],
      "execution_count": 134,
      "outputs": [
        {
          "output_type": "execute_result",
          "data": {
            "text/plain": [
              "b'<!DOCTYPE html>\\n<html lang=\"en\">\\n<head>\\n<meta http-equiv=\"Content-Type\" content=\"text/html; charset=UTF-8\">\\n\\n            <script defer src=\"https://www.numbeo.com/common/numbeo_standard.js\"></script>\\n    <link href=\"https://cdnjs.cloudflare.com/ajax/libs/jqueryui/1.10.3/themes/redmond/jquery-ui.min.css\" rel=\"Stylesheet\" />\\n    <link rel=\"shortcut icon\" type=\"image/x-icon\" href=\"https://www.numbeo.com/favicon.ico\" />\\n    <script  defer  src=\"https://cdnjs.cloudflare.com/ajax/libs/jquery/1.10.2/jquery.min.js\"></script>\\n    <script  defer  src=\"https://cdnjs.cloudflare.com/ajax/libs/jqueryui/1.10.3/jquery-ui.min.js\"></script>\\n   <script src=\\'https://www.gstatic.com/charts/loader.js\\'></script>\\n<link rel=\"apple-touch-icon\" href=\"https://www.numbeo.com/images/apple-touch-icon.png\">\\n  <script>\\n  if (typeof whenDocReady === \"function\") {\\n    // already declared, do nothing\\n  } else {\\n    function whenDocReady(fn) {\\n      // see if DOM is already available\\n      if (document.readyState === \"complete\" || document.readyState === \"interactive\") {\\n        // call on next available tick\\n        setTimeout(fn, 1);\\n      } else {\\n        document.addEventListener(\"DOMContentLoaded\", fn);\\n      }\\n    }\\n  }\\n</script>\\n<!-- Global site tag (gtag.js) - Google Analytics -->\\n<script async src=\"https://www.googletagmanager.com/gtag/js?id=UA-10969791-1\"></script>\\n<script>\\n  window.dataLayer = window.dataLayer || [];\\n  function gtag(){dataLayer.push(arguments);}\\n  gtag(\\'js\\', new Date());\\ngtag(\\'config\\', \\'UA-10969791-1\\', {\\n  \\'custom_map\\': {\\'dimension1\\': \\'abTestDesign\\'}\\n});\\n\\ngtag(\\'event\\', \\'abTestDesign_dimension\\', {\\'abTestDesign\\': 1, \\'non_interaction\\': true});\\n</script>\\n<link rel=\"stylesheet\" href=\"https://cdn.datatables.net/v/ju/dt-1.10.22/datatables.min.css\"/>\\n<script defer src=\"https://cdn.datatables.net/v/ju/dt-1.10.22/datatables.min.js\"></script>\\n<script data-cfasync=\"false\" async src=\"https://cdn.snigelweb.com/adengine/numbeo.com/loader.js\" type=\"text/javascript\"></script>\\n    <link rel=\"stylesheet\" href=\"https://www.numbeo.com/common/style_desktop_b.css\" />\\n\\n<meta name=\"description\" content=\"By Country : Cost of Living Index, Rent Index, Restaurant Prices Index, Transportation Price Index, Grocery Price Index, Local Purchasing Power Index, ...  \" />\\n<title>Cost of Living Index by Country 2021</title>\\n</head>\\n\\n<body>\\n\\n <script>\\n     google.load(\\'visualization\\', \\'1\\', {\\'packages\\': [\\'geochart\\']});\\n     google.setOnLoadCallback(drawRegionsMap);\\n\\n      function drawRegionsMap() {\\n        var data = new google.visualization.DataTable();\\n        data.addColumn(\\'string\\', \\'Country\\');\\n        data.addColumn(\\'number\\', \\'Cost of Living Index\\');\\n        data.addRows([\\n        [\\'Cambodia\\', 47.91],\\n        [\\'Paraguay\\', 30.72],\\n        [\\'Kazakhstan\\', 29.76],\\n        [\\'Portugal\\', 52.88],\\n        [\\'Syria\\', 29.03],\\n        [\\'Bahamas\\', 85.85],\\n        [\\'Greece\\', 60.96],\\n        [\\'Latvia\\', 52.87],\\n        [\\'Mongolia\\', 33.17],\\n        [\\'Iran\\', 41.34],\\n        [\\'Morocco\\', 36.85],\\n        [\\'Panama\\', 54.07],\\n        [\\'Guatemala\\', 44.76],\\n        [\\'Iraq\\', 32.72],\\n        [\\'Chile\\', 49.33],\\n        [\\'Nepal\\', 28.86],\\n        [\\'Argentina\\', 37.87],\\n        [\\'Seychelles\\', 78.92],\\n        [\\'Tanzania\\', 34.60],\\n        [\\'Ukraine\\', 29.21],\\n        [\\'Belize\\', 52.45],\\n        [\\'Ghana\\', 40.63],\\n        [\\'Zambia\\', 28.06],\\n        [\\'Bahrain\\', 57.70],\\n        [\\'India\\', 25.16],\\n        [\\'Canada\\', 70.08],\\n        [\\'Turkey\\', 31.48],\\n        [\\'Belgium\\', 78.52],\\n        [\\'Namibia\\', 41.02],\\n        [\\'Finland\\', 77.46],\\n        [\\'Taiwan\\', 65.25],\\n        [\\'North Macedonia\\', 34.15],\\n        [\\'South Africa\\', 41.69],\\n        [\\'Bermuda\\', 145.07],\\n        [\\'Georgia\\', 28.05],\\n        [\\'Jamaica\\', 53.16],\\n        [\\'Peru\\', 36.26],\\n        [\\'Germany\\', 70.62],\\n        [\\'Yemen\\', 51.46],\\n        [\\'Puerto Rico\\', 69.51],\\n        [\\'Fiji\\', 48.54],\\n        [\\'Hong Kong\\', 79.94],\\n        [\\'United States\\', 71.92],\\n        [\\'Somalia\\', 37.42],\\n        [\\'Ivory Coast\\', 54.61],\\n        [\\'Thailand\\', 49.32],\\n        [\\'Libya\\', 22.32],\\n        [\\'Costa Rica\\', 50.64],\\n        [\\'Sweden\\', 79.17],\\n        [\\'Vietnam\\', 38.05],\\n        [\\'Poland\\', 42.04],\\n        [\\'Jordan\\', 52.17],\\n        [\\'Kuwait\\', 49.40],\\n        [\\'Bulgaria\\', 40.92],\\n        [\\'Nigeria\\', 29.74],\\n        [\\'Tunisia\\', 29.50],\\n        [\\'Croatia\\', 56.36],\\n        [\\'Uruguay\\', 51.09],\\n        [\\'Sri Lanka\\', 31.28],\\n        [\\'United Kingdom\\', 71.03],\\n        [\\'United Arab Emirates\\', 61.67],\\n        [\\'Kenya\\', 36.30],\\n        [\\'Switzerland\\', 131.75],\\n        [\\'Spain\\', 59.09],\\n        [\\'Palestine\\', 55.88],\\n        [\\'Lebanon\\', 75.88],\\n        [\\'Brunei\\', 49.35],\\n        [\\'Cuba\\', 55.54],\\n        [\\'Azerbaijan\\', 30.90],\\n        [\\'Czech Republic\\', 49.18],\\n        [\\'Israel\\', 86.63],\\n        [\\'Australia\\', 84.14],\\n        [\\'Estonia\\', 56.45],\\n        [\\'Myanmar\\', 38.06],\\n        [\\'Cameroon\\', 42.57],\\n        [\\'Cyprus\\', 64.05],\\n        [\\'Malaysia\\', 39.51],\\n        [\\'Iceland\\', 96.77],\\n        [\\'Oman\\', 50.18],\\n        [\\'Bosnia And Herzegovina\\', 38.56],\\n        [\\'Armenia\\', 31.68],\\n        [\\'South Korea\\', 81.20],\\n        [\\'Austria\\', 75.49],\\n        [\\'Mozambique\\', 35.89],\\n        [\\'El Salvador\\', 44.57],\\n        [\\'Luxembourg\\', 88.28],\\n        [\\'Brazil\\', 31.82],\\n        [\\'Algeria\\', 28.31],\\n        [\\'Slovenia\\', 59.38],\\n        [\\'Ecuador\\', 40.08],\\n        [\\'Colombia\\', 31.00],\\n        [\\'Kosovo (Disputed Territory)\\', 29.40],\\n        [\\'Hungary\\', 42.75],\\n        [\\'Japan\\', 87.77],\\n        [\\'Moldova\\', 32.68],\\n        [\\'Belarus\\', 30.69],\\n        [\\'Mauritius\\', 52.57],\\n        [\\'Trinidad And Tobago\\', 55.48],\\n        [\\'Albania\\', 40.25],\\n        [\\'New Zealand\\', 79.14],\\n        [\\'Italy\\', 73.11],\\n        [\\'Honduras\\', 42.20],\\n        [\\'Ethiopia\\', 54.30],\\n        [\\'Afghanistan\\', 26.33],\\n        [\\'Singapore\\', 85.59],\\n        [\\'Egypt\\', 30.10],\\n        [\\'Bolivia\\', 36.11],\\n        [\\'Malta\\', 73.61],\\n        [\\'Russia\\', 33.17],\\n        [\\'Saudi Arabia\\', 49.95],\\n        [\\'Netherlands\\', 78.64],\\n        [\\'Pakistan\\', 21.59],\\n        [\\'Ireland\\', 83.11],\\n        [\\'Qatar\\', 64.23],\\n        [\\'China\\', 42.54],\\n        [\\'Slovakia\\', 49.08],\\n        [\\'France\\', 80.62],\\n        [\\'Lithuania\\', 47.66],\\n        [\\'Serbia\\', 39.19],\\n        [\\'Kyrgyzstan\\', 22.98],\\n        [\\'Romania\\', 38.50],\\n        [\\'Philippines\\', 40.65],\\n        [\\'Rwanda\\', 34.07],\\n        [\\'Uzbekistan\\', 27.12],\\n        [\\'Bangladesh\\', 33.31],\\n        [\\'Barbados\\', 81.49],\\n        [\\'Nicaragua\\', 42.77],\\n        [\\'Norway\\', 106.09],\\n        [\\'Botswana\\', 40.41],\\n        [\\'Macao\\', 69.60],\\n        [\\'Denmark\\', 91.67],\\n        [\\'Dominican Republic\\', 41.54],\\n        [\\'Zimbabwe\\', 51.52],\\n        [\\'Mexico\\', 35.05],\\n        [\\'Uganda\\', 32.18],\\n        [\\'Suriname\\', 51.86],\\n        [\\'Montenegro\\', 41.43],\\n        [\\'Indonesia\\', 37.44],\\n        ]);\\n\\n        var options = {\\n          colorAxis: {colors: [ \\'#00BC30\\', \\'#FCFC00\\', \\'#cA0000\\'], minValue : 21, maxValue : 91.9999}\\n        };\\n\\n        var chart = new google.visualization.GeoChart(document.getElementById(\\'chart_div\\'));\\n        chart.draw(data, options);\\n    };\\n    </script>\\n\\n<aside>\\n<div class=\"top_ad\">\\n<div style=\"display: block; height: 90px; width: 100%; text-align: center\">\\n<script async src=\"//pagead2.googlesyndication.com/pagead/js/adsbygoogle.js\"></script>\\n<!-- ad_in_header3 -->\\n<ins class=\"adsbygoogle\"\\n     style=\"display:inline-block;width:728px;height:90px\"\\n     data-ad-client=\"ca-pub-8993465169534557\"\\n     data-ad-slot=\"7618322317\"></ins>\\n<script>\\n(adsbygoogle = window.adsbygoogle || []).push({});\\n</script>\\n\\n</div>\\n</div>\\n</aside>\\n<nav>\\n<div class=\"logo-and-upper-ad\">\\n<div class=\"innerWidth\" id=\"content_and_logo\">\\n<table style=\"width: 100%;\" >\\n<tr>\\n<td style=\"padding-top: 5px; padding-bottom: 7px; vertical-align: bottom;\">\\n<a href=\"https://www.numbeo.com/cost-of-living/\" style=\"border: 0; text-decoration:none;\">\\n<img src=\"https://www.numbeo.com/images/numbeo_icon_1B3B6F.svg\" style=\"height: 56px; padding: 0px 0px; vertical-align: bottom; border: 0;\" alt=\"\" /><img src=\"https://www.numbeo.com/images/numbeo_text_1B3B6F.svg\" style=\"height: 40px; margin-left: 1em; margin-bottom: 5px; vertical-align: bottom; border: 0;\" alt=\"NUMBEO\" /></a>\\n</td>\\n<td style=\"padding-left:20px; padding-top: 1px; padding-bottom: 0px; vertical-align: middle; width: 900px; text-align: left;\" >\\n<div style=\"display: inline-block; width: 100%; margin-top: 10px; margin-bottom: 10px; text-align: left; vertical-align: bottom\">\\n<nav style=\"display: inline-block; vertical-align: middle;\">\\n<div class=\"standard_margin_inlineblock\" >      <form action=\"https://www.numbeo.com/common/dispatcher.jsp\" method=\"get\" id=\"menu_dispatch_form\"  style=\"display: inline; padding: 0; margin:0;\">\\n      <input type=\"hidden\" name=\"where\" value=\"https://www.numbeo.com/cost-of-living/in/\" style=\"display: inline; padding:0; margin:0;\" />\\n<input id=\"city_selector_menu_city_id\"  size=\"27\"  type=\"text\" placeholder=\"Select City\" class=\"city-selector-menu\" name=\"city_selector_menu_city_id\" />\\n<input type=\"hidden\" id=\"menu_city_id\" name=\"city_id\"/>\\n<input type=\"hidden\" id=\"name_menu_city_id\" name=\"name_city_id\"/>\\n      </form>\\n</div>\\n <script>\\nwhenDocReady(function() {\\n  \\tjQuery(\\'#city_selector_menu_city_id\\').autocomplete({\\n  \\t  source: \\'https://www.numbeo.com/common/CitySearchJson\\',\\n     minLength: 1,\\n     delay: 3,\\n     autoFocus: true,\\n     select: function(event, ui) {\\n         event.preventDefault();\\n         $(\\'#name_menu_city_id\\').val(ui.item.label);\\n         $(\\'#city_selector_menu_city_id\\').val(ui.item.label);\\n         $(\\'#menu_city_id\\').val(ui.item.value);\\njQuery(\\'#menu_dispatch_form\\').submit();     },\\n     focus: function(event, ui) {\\n         event.preventDefault();\\n     }\\n\\t  })   .keydown(function(e){\\n\\t    if (e.keyCode === 13){\\n      if ($(\\'#menu_city_id\\').val() == \\'\\') { \\n        e.preventDefault();\\n      }\\n      var val = $(\\'#city_selector_menu_city_id\\').val();\\n\\t\\t   $(\\'#name_menu_city_id\\').val(val);\\n\\t   }\\n  }); // end autocompleter definition\\n$(\\'#city_selector_menu_city_id\\').toggleClass(\\'city-selector-menu\\');\\n$(\\'#city_selector_menu_city_id\\').toggleClass(\\'city-selector-menu\\');\\n }); // end document ready \\n</script>\\n</nav>\\n<nav style=\"display: inline-block; vertical-align: middle; padding-left: 0.5em;\">\\n<div class=\"standard_margin_inlineblock\">\\n<select name=\"city_result_switcher\" id=\"city_result_switcher\"  onchange=\"window.location = this.value;\" class=\"result_switcher \">\\n<option value=\"\" selected=\"selected\">What are you looking for?</option>\\n<option value=\"https://www.numbeo.com/cost-of-living/\">Cost of Living</option>\\n<option value=\"https://www.numbeo.com/crime/\">Crime</option>\\n<option value=\"https://www.numbeo.com/climate/\">Climate</option>\\n<option value=\"https://www.numbeo.com/food-prices/\">Food Prices</option>\\n<option value=\"https://www.numbeo.com/gas-prices/\">Gas Prices</option>\\n<option value=\"https://www.numbeo.com/health-care/\">Health Care</option>\\n<option value=\"https://www.numbeo.com/pollution/\">Pollution</option>\\n<option value=\"https://www.numbeo.com/property-investment/\">Property Prices</option>\\n<option value=\"https://www.numbeo.com/quality-of-life/\">Quality of Life</option>\\n<option value=\"https://www.numbeo.com/taxi-fare/\">Taxi Fare</option>\\n<option value=\"https://www.numbeo.com/traffic/\">Traffic</option>\\n</select>\\n</div>\\n</nav>\\n</div>\\n</td>\\n</tr>\\n</table>\\n</div> <!-- innerWidth in header -->\\n</div> <!-- logo-and-upper-ad -->\\n</nav>\\n<div class=\"innerWidth\">\\n<div class=\"dropdown-outer\">\\n<nav class=\"before-nav\" >\\n    <ul id=\"nav-one\" class=\"nav\">\\n\\n\\t<li class=\"dir\">\\n<a href=\"https://www.numbeo.com/cost-of-living/\">Cost Of Living</a>\\n  <ul>\\n    <li><a href=\"https://www.numbeo.com/cost-of-living/\">Cost Of Living</a></li>\\n    <li><a href=\"https://www.numbeo.com/cost-of-living/comparison.jsp\">Cost of Living Comparison</a></li>\\n    <li><a href=\"https://www.numbeo.com/cost-of-living/calculator.jsp\">Cost of Living Calculator</a></li>\\n    <li><a href=\"https://www.numbeo.com/cost-of-living/rankings_current.jsp\">Cost Of Living Index (Current)</a></li>\\n    <li><a href=\"https://www.numbeo.com/cost-of-living/rankings.jsp\">Cost Of Living Index</a></li>\\n    <li><a href=\"https://www.numbeo.com/cost-of-living/rankings_by_country.jsp\">Cost Of Living Index By Country</a></li>\\n    <li><a href=\"https://www.numbeo.com/cost-of-living/estimator_main\">Cost of Living Estimator</a></li>\\n    <li><a href=\"https://www.numbeo.com/food-prices/\">Food Prices</a></li>\\n    <li><a href=\"https://www.numbeo.com/cost-of-living/prices_by_city.jsp\">Prices By City</a></li>\\n    <li><a href=\"https://www.numbeo.com/cost-of-living/prices_by_country.jsp\">Prices By Country</a></li>\\n    <li><a href=\"https://www.numbeo.com/cost-of-living/historical-data-analysis\">Historical Data Analysis</a></li>\\n    <li><a href=\"https://www.numbeo.com/cost-of-living/basket_of_goods.jsp\">Basket of Goods and Services</a></li>\\n    <li><a href=\"https://www.numbeo.com/taxi-fare/\">Taxi Fare Calculator</a></li>\\n    <li><a href=\"https://www.numbeo.com/gas-prices/\">Gas Prices Calculator</a></li>\\n    <li><a href=\"https://www.numbeo.com/common/motivation_and_methodology.jsp\">Our Motivation and Methodology</a></li>\\n    <li><a href=\"https://www.numbeo.com/cost-of-living/contribute.jsp\">Update Information for Your City</a></li>\\n  </ul></li>\\n\\n\\t<li class=\"dir\">\\n<a href=\"https://www.numbeo.com/property-investment/\">Property Prices</a>\\n  <ul>\\n    <li><a href=\"https://www.numbeo.com/property-investment/\">Property Prices</a></li>\\n    <li><a href=\"https://www.numbeo.com/property-investment/comparison.jsp\">Property Prices Comparison</a></li>\\n    <li><a href=\"https://www.numbeo.com/property-investment/rankings_current.jsp\">Property Price Index (Current)</a></li>\\n    <li><a href=\"https://www.numbeo.com/property-investment/rankings.jsp\">Property Price Index</a></li>\\n    <li><a href=\"https://www.numbeo.com/property-investment/rankings_by_country.jsp\">Property Price Index By Country</a></li>\\n   </ul></li>\\n\\n\\t<li class=\"dir\">\\n<a href=\"https://www.numbeo.com/quality-of-life/\">Quality Of Life</a>\\n  <ul>\\n    <li><a href=\"https://www.numbeo.com/quality-of-life/\">Quality of Life</a></li>\\n    <li><a href=\"https://www.numbeo.com/quality-of-life/comparison.jsp\">Quality of Life Comparisons</a></li>\\n    <li><a href=\"https://www.numbeo.com/quality-of-life/rankings_current.jsp\">Quality of Life Index (Current)</a></li>\\n    <li><a href=\"https://www.numbeo.com/quality-of-life/rankings.jsp\">Quality of Life Index</a></li>\\n    <li><a href=\"https://www.numbeo.com/quality-of-life/rankings_by_country.jsp\">Quality of Life Index by Country</a></li>\\n    <li><a href=\"https://www.numbeo.com/crime/\">Crime</a></li>\\n    <li><a href=\"https://www.numbeo.com/crime/rankings_current.jsp\">Crime Index (Current)</a></li>\\n    <li><a href=\"https://www.numbeo.com/crime/rankings.jsp\">Crime Index</a></li>\\n    <li><a href=\"https://www.numbeo.com/crime/rankings_by_country.jsp\">Crime Index by Country</a></li>\\n    <li><a href=\"https://www.numbeo.com/health-care/\">Health Care</a></li>\\n    <li><a href=\"https://www.numbeo.com/health-care/rankings_current.jsp\">Health Care Index (Current)</a></li>\\n    <li><a href=\"https://www.numbeo.com/health-care/rankings.jsp\">Health Care Index</a></li>\\n    <li><a href=\"https://www.numbeo.com/health-care/rankings_by_country.jsp\">Health Care Index by Country</a></li>\\n    <li><a href=\"https://www.numbeo.com/pollution/\">Pollution</a></li>\\n    <li><a href=\"https://www.numbeo.com/pollution/rankings_current.jsp\">Pollution Index (Current)</a></li>\\n    <li><a href=\"https://www.numbeo.com/pollution/rankings.jsp\">Pollution Index</a></li>\\n    <li><a href=\"https://www.numbeo.com/pollution/rankings_by_country.jsp\">Pollution Index by Country</a></li>\\n     <li><a href=\"https://www.numbeo.com/traffic/\">Traffic</a></li>\\n     <li><a href=\"https://www.numbeo.com/traffic/rankings_current.jsp\">Traffic Index (Current)</a></li>\\n     <li><a href=\"https://www.numbeo.com/traffic/rankings.jsp\">Traffic Index</a></li>\\n     <li><a href=\"https://www.numbeo.com/traffic/rankings_by_country.jsp\">Traffic Index by Country</a></li>\\n\\t</ul></li>\\n\\t<li class=\"dir\">\\n<a href=\"https://www.numbeo.com/premium/index\">Premium</a>\\n  <ul>\\n    <li><a href=\"https://www.numbeo.com/premium/commercial-license\">Commercial License</a></li>\\n    <li><a href=\"https://www.numbeo.com/premium/\">Insights</a></li>\\n    <li><a href=\"https://www.numbeo.com/common/api.jsp\">API</a></li>\\n\\t</ul></li>\\n\\t<li class=\"dir\">\\n<a href=\"https://jobs.numbeo.com/jobs/\">Jobs</a>\\n  <ul>\\n    <li><a href=\"https://jobs.numbeo.com/jobs/remote-jobs\">Remote Jobs</a></li>\\n    <li><a href=\"https://jobs.numbeo.com/jobs/jobs-with-relocation\">Jobs with Relocation</a></li>\\n    <li><a href=\"https://jobs.numbeo.com/jobs/post-job\">Post Jobs</a></li>\\n\\t</ul></li>\\n\\n\\n</ul>\\n<br style=\"clear: both\"/>\\n</nav>\\n</div> <!-- dropdown-outer -->\\n</div> <!-- innerWidth -->\\n<div class=\"innerWidth\">\\n <div class=\"right-ads-and-info\">\\n <div class=\"right-ads\">\\n<div style=\"width: 300px; height: 251px\">\\n\\n<!-- adngin-ad_float_right-0 -->\\n<div id=\"adngin-ad_float_right-0\"></div>\\n\\n</div>\\n\\n </div>\\n </div>\\n<p>\\n<nav itemscope itemtype=\"http://schema.org/BreadcrumbList\" class=\"breadcrumb\">\\n<a href=\"https://www.numbeo.com/common/\" class=\"discreet_link\"><img src=\"https://www.numbeo.com/images/home.png\" class=\"image_without_border hide_smaller_than_600\" alt=\"home\"/></a><span itemprop=\"itemListElement\" itemscope itemtype=\"http://schema.org/ListItem\">\\n<a href=\"https://www.numbeo.com/cost-of-living/\" itemprop=\"item\" class=\"breadcrumb_link\"><span itemprop=\"name\">Cost of Living</span></a><meta itemprop=\"position\" content=\"1\" />\\n</span> <span style=\"font-size: 75%; display: inline-block;\">&gt;</span> <span itemprop=\"itemListElement\" itemscope itemtype=\"http://schema.org/ListItem\">\\n <a href=\"https://www.numbeo.com/cost-of-living/rankings_by_country.jsp\"  itemprop=\"item\"  class=\"breadcrumb_link\"><span itemprop=\"name\">Index by Country</span></a><meta itemprop=\"position\" content=\"2\" />\\n</span></nav>\\n    <h1> Cost of Living Index by Country 2021</h1>\\n\\n\\n\\n\\n<div id=\"page_container\">\\n<div class=\"regionChartDivContainer\">\\n<div id=\"chart_div\" class=\"regionChartDiv\" ></div><div class=\"regionChartDivLabel\">\\nChart: Cost of Living Index</div>\\n</div>\\n\\n<p>You are looking at Cost of Living Index by country 2021.\\nThese indices are historical and they are published periodically. <br/> It\\'s a snapshot of the current indices at a specific point in time.\\n<div class=\"new_div_indices_info\">\\n<a href=\"https://www.numbeo.com/cost-of-living/cpi_explained.jsp\" title=\"About these indices\" class=\"ui-state-default region_link\">\\n        <img src=\"https://www.numbeo.com/images/information.png\" class=\"image_help\" alt=\"Info\"/> More information about these indices</a></div>\\n <form method=\"get\" class=\"changePageForm\" action=\"https://www.numbeo.com/cost-of-living/rankings_by_country.jsp\">\\n Select date: <select name=\"title\"  onchange=\"this.form.submit();\">\\n  <option value=\"2021\" selected=\"selected\">2021</option>\\n  <option value=\"2020-mid\">2020 Mid-Year</option>\\n  <option value=\"2020\">2020</option>\\n  <option value=\"2019-mid\">2019 Mid-Year</option>\\n  <option value=\"2019\">2019</option>\\n  <option value=\"2018-mid\">2018 Mid-Year</option>\\n  <option value=\"2018\">2018</option>\\n  <option value=\"2017-mid\">2017 Mid-Year</option>\\n  <option value=\"2017\">2017</option>\\n  <option value=\"2016-mid\">2016 Mid-Year</option>\\n  <option value=\"2016\">2016</option>\\n  <option value=\"2015-mid\">2015 Mid-Year</option>\\n  <option value=\"2015\">2015</option>\\n  <option value=\"2014-mid\">2014 Mid-Year</option>\\n  <option value=\"2014\">2014</option>\\n  <option value=\"2013\">2013</option>\\n  <option value=\"2012\">2012</option>\\n  <option value=\"2011\">2011</option>\\n  <option value=\"2010\">2010</option>\\n  <option value=\"2009\">2009</option>\\n</select>\\n <input type=\"hidden\" name=\"displayColumn\" value=\"0\" />\\n </form>\\n<form method=\"get\" class=\"changePageForm\" action=\"https://www.numbeo.com/cost-of-living/rankings_by_country.jsp\">\\nSelect display column: <input type=\"hidden\" name=\"title\" value=\"2021\" />\\n<select name=\"displayColumn\"  onchange=\"this.form.submit();\">\\n  <option value=\"-1\" >---All columns---</option>\\n  <option value=\"0\" selected=\"selected\">Cost of Living Index</option>\\n  <option value=\"1\">Rent Index</option>\\n  <option value=\"2\">Cost of Living Plus Rent Index</option>\\n  <option value=\"3\">Groceries Index</option>\\n  <option value=\"4\">Restaurant Price Index</option>\\n  <option value=\"5\">Local Purchasing Power Index</option>\\n</select>\\n </form>\\n<div class=\"select_region_links\">\\n<span class=\"ui-state-default select_region\"><label>Select Region:</label></span><span class=\"nobreak\">\\n<a href=\"https://www.numbeo.com/cost-of-living/rankings_by_country.jsp?title=2021&amp;region=002\" class=\"ui-state-default region_link\">Africa</a>\\n</span>\\n<span class=\"nobreak\">\\n<a href=\"https://www.numbeo.com/cost-of-living/rankings_by_country.jsp?title=2021&amp;region=019\" class=\"ui-state-default region_link\">America</a>\\n</span>\\n<span class=\"nobreak\">\\n<a href=\"https://www.numbeo.com/cost-of-living/rankings_by_country.jsp?title=2021&amp;region=142\" class=\"ui-state-default region_link\">Asia</a>\\n</span>\\n<span class=\"nobreak\">\\n<a href=\"https://www.numbeo.com/cost-of-living/rankings_by_country.jsp?title=2021&amp;region=150\" class=\"ui-state-default region_link\">Europe</a>\\n</span>\\n<span class=\"nobreak\">\\n<a href=\"https://www.numbeo.com/cost-of-living/rankings_by_country.jsp?title=2021&amp;region=009\" class=\"ui-state-default region_link\">Oceania</a>\\n</span>\\n</div>\\n\\n      <table id=\"t2\"  class=\"stripe row-border order-column compact\" >\\n<thead>\\n\\t<tr>\\n\\t<th><div style=\"font-size: 80%; vertical-align: middle;\">Rank</div></th>\\n\\t\\t<th>Country</th>\\n\\t\\t<th><div style=\"font-size: 90%;\">Cost of Living Index</div></th>\\n\\t</tr>\\n</thead>\\n<tbody>\\n\\n <tr style=\"width: 100%\">\\n  <td></td>\\n    <td class=\"cityOrCountryInIndicesTable\">Bermuda</td>\\n    <td style=\"text-align: right\">145.07</td>\\n </tr>\\n <tr style=\"width: 100%\">\\n  <td></td>\\n    <td class=\"cityOrCountryInIndicesTable\">Switzerland</td>\\n    <td style=\"text-align: right\">131.75</td>\\n </tr>\\n <tr style=\"width: 100%\">\\n  <td></td>\\n    <td class=\"cityOrCountryInIndicesTable\">Norway</td>\\n    <td style=\"text-align: right\">106.09</td>\\n </tr>\\n <tr style=\"width: 100%\">\\n  <td></td>\\n    <td class=\"cityOrCountryInIndicesTable\">Iceland</td>\\n    <td style=\"text-align: right\">96.77</td>\\n </tr>\\n <tr style=\"width: 100%\">\\n  <td></td>\\n    <td class=\"cityOrCountryInIndicesTable\">Denmark</td>\\n    <td style=\"text-align: right\">91.67</td>\\n </tr>\\n <tr style=\"width: 100%\">\\n  <td></td>\\n    <td class=\"cityOrCountryInIndicesTable\">Luxembourg</td>\\n    <td style=\"text-align: right\">88.28</td>\\n </tr>\\n <tr style=\"width: 100%\">\\n  <td></td>\\n    <td class=\"cityOrCountryInIndicesTable\">Japan</td>\\n    <td style=\"text-align: right\">87.77</td>\\n </tr>\\n <tr style=\"width: 100%\">\\n  <td></td>\\n    <td class=\"cityOrCountryInIndicesTable\">Israel</td>\\n    <td style=\"text-align: right\">86.63</td>\\n </tr>\\n <tr style=\"width: 100%\">\\n  <td></td>\\n    <td class=\"cityOrCountryInIndicesTable\">Bahamas</td>\\n    <td style=\"text-align: right\">85.85</td>\\n </tr>\\n <tr style=\"width: 100%\">\\n  <td></td>\\n    <td class=\"cityOrCountryInIndicesTable\">Singapore</td>\\n    <td style=\"text-align: right\">85.59</td>\\n </tr>\\n <tr style=\"width: 100%\">\\n  <td></td>\\n    <td class=\"cityOrCountryInIndicesTable\">Australia</td>\\n    <td style=\"text-align: right\">84.14</td>\\n </tr>\\n <tr style=\"width: 100%\">\\n  <td></td>\\n    <td class=\"cityOrCountryInIndicesTable\">Ireland</td>\\n    <td style=\"text-align: right\">83.11</td>\\n </tr>\\n <tr style=\"width: 100%\">\\n  <td></td>\\n    <td class=\"cityOrCountryInIndicesTable\">Barbados</td>\\n    <td style=\"text-align: right\">81.49</td>\\n </tr>\\n <tr style=\"width: 100%\">\\n  <td></td>\\n    <td class=\"cityOrCountryInIndicesTable\">South Korea</td>\\n    <td style=\"text-align: right\">81.20</td>\\n </tr>\\n <tr style=\"width: 100%\">\\n  <td></td>\\n    <td class=\"cityOrCountryInIndicesTable\">France</td>\\n    <td style=\"text-align: right\">80.62</td>\\n </tr>\\n <tr style=\"width: 100%\">\\n  <td></td>\\n    <td class=\"cityOrCountryInIndicesTable\">Hong Kong</td>\\n    <td style=\"text-align: right\">79.94</td>\\n </tr>\\n <tr style=\"width: 100%\">\\n  <td></td>\\n    <td class=\"cityOrCountryInIndicesTable\">Sweden</td>\\n    <td style=\"text-align: right\">79.17</td>\\n </tr>\\n <tr style=\"width: 100%\">\\n  <td></td>\\n    <td class=\"cityOrCountryInIndicesTable\">New Zealand</td>\\n    <td style=\"text-align: right\">79.14</td>\\n </tr>\\n <tr style=\"width: 100%\">\\n  <td></td>\\n    <td class=\"cityOrCountryInIndicesTable\">Seychelles</td>\\n    <td style=\"text-align: right\">78.92</td>\\n </tr>\\n <tr style=\"width: 100%\">\\n  <td></td>\\n    <td class=\"cityOrCountryInIndicesTable\">Netherlands</td>\\n    <td style=\"text-align: right\">78.64</td>\\n </tr>\\n <tr style=\"width: 100%\">\\n  <td></td>\\n    <td class=\"cityOrCountryInIndicesTable\">Belgium</td>\\n    <td style=\"text-align: right\">78.52</td>\\n </tr>\\n <tr style=\"width: 100%\">\\n  <td></td>\\n    <td class=\"cityOrCountryInIndicesTable\">Finland</td>\\n    <td style=\"text-align: right\">77.46</td>\\n </tr>\\n <tr style=\"width: 100%\">\\n  <td></td>\\n    <td class=\"cityOrCountryInIndicesTable\">Lebanon</td>\\n    <td style=\"text-align: right\">75.88</td>\\n </tr>\\n <tr style=\"width: 100%\">\\n  <td></td>\\n    <td class=\"cityOrCountryInIndicesTable\">Austria</td>\\n    <td style=\"text-align: right\">75.49</td>\\n </tr>\\n <tr style=\"width: 100%\">\\n  <td></td>\\n    <td class=\"cityOrCountryInIndicesTable\">Malta</td>\\n    <td style=\"text-align: right\">73.61</td>\\n </tr>\\n <tr style=\"width: 100%\">\\n  <td></td>\\n    <td class=\"cityOrCountryInIndicesTable\">Italy</td>\\n    <td style=\"text-align: right\">73.11</td>\\n </tr>\\n <tr style=\"width: 100%\">\\n  <td></td>\\n    <td class=\"cityOrCountryInIndicesTable\">United States</td>\\n    <td style=\"text-align: right\">71.92</td>\\n </tr>\\n <tr style=\"width: 100%\">\\n  <td></td>\\n    <td class=\"cityOrCountryInIndicesTable\">United Kingdom</td>\\n    <td style=\"text-align: right\">71.03</td>\\n </tr>\\n <tr style=\"width: 100%\">\\n  <td></td>\\n    <td class=\"cityOrCountryInIndicesTable\">Germany</td>\\n    <td style=\"text-align: right\">70.62</td>\\n </tr>\\n <tr style=\"width: 100%\">\\n  <td></td>\\n    <td class=\"cityOrCountryInIndicesTable\">Canada</td>\\n    <td style=\"text-align: right\">70.08</td>\\n </tr>\\n <tr style=\"width: 100%\">\\n  <td></td>\\n    <td class=\"cityOrCountryInIndicesTable\">Macao</td>\\n    <td style=\"text-align: right\">69.60</td>\\n </tr>\\n <tr style=\"width: 100%\">\\n  <td></td>\\n    <td class=\"cityOrCountryInIndicesTable\">Puerto Rico</td>\\n    <td style=\"text-align: right\">69.51</td>\\n </tr>\\n <tr style=\"width: 100%\">\\n  <td></td>\\n    <td class=\"cityOrCountryInIndicesTable\">Taiwan</td>\\n    <td style=\"text-align: right\">65.25</td>\\n </tr>\\n <tr style=\"width: 100%\">\\n  <td></td>\\n    <td class=\"cityOrCountryInIndicesTable\">Qatar</td>\\n    <td style=\"text-align: right\">64.23</td>\\n </tr>\\n <tr style=\"width: 100%\">\\n  <td></td>\\n    <td class=\"cityOrCountryInIndicesTable\">Cyprus</td>\\n    <td style=\"text-align: right\">64.05</td>\\n </tr>\\n <tr style=\"width: 100%\">\\n  <td></td>\\n    <td class=\"cityOrCountryInIndicesTable\">United Arab Emirates</td>\\n    <td style=\"text-align: right\">61.67</td>\\n </tr>\\n <tr style=\"width: 100%\">\\n  <td></td>\\n    <td class=\"cityOrCountryInIndicesTable\">Greece</td>\\n    <td style=\"text-align: right\">60.96</td>\\n </tr>\\n <tr style=\"width: 100%\">\\n  <td></td>\\n    <td class=\"cityOrCountryInIndicesTable\">Slovenia</td>\\n    <td style=\"text-align: right\">59.38</td>\\n </tr>\\n <tr style=\"width: 100%\">\\n  <td></td>\\n    <td class=\"cityOrCountryInIndicesTable\">Spain</td>\\n    <td style=\"text-align: right\">59.09</td>\\n </tr>\\n <tr style=\"width: 100%\">\\n  <td></td>\\n    <td class=\"cityOrCountryInIndicesTable\">Bahrain</td>\\n    <td style=\"text-align: right\">57.70</td>\\n </tr>\\n <tr style=\"width: 100%\">\\n  <td></td>\\n    <td class=\"cityOrCountryInIndicesTable\">Estonia</td>\\n    <td style=\"text-align: right\">56.45</td>\\n </tr>\\n <tr style=\"width: 100%\">\\n  <td></td>\\n    <td class=\"cityOrCountryInIndicesTable\">Croatia</td>\\n    <td style=\"text-align: right\">56.36</td>\\n </tr>\\n <tr style=\"width: 100%\">\\n  <td></td>\\n    <td class=\"cityOrCountryInIndicesTable\">Palestine</td>\\n    <td style=\"text-align: right\">55.88</td>\\n </tr>\\n <tr style=\"width: 100%\">\\n  <td></td>\\n    <td class=\"cityOrCountryInIndicesTable\">Cuba</td>\\n    <td style=\"text-align: right\">55.54</td>\\n </tr>\\n <tr style=\"width: 100%\">\\n  <td></td>\\n    <td class=\"cityOrCountryInIndicesTable\">Trinidad And Tobago</td>\\n    <td style=\"text-align: right\">55.48</td>\\n </tr>\\n <tr style=\"width: 100%\">\\n  <td></td>\\n    <td class=\"cityOrCountryInIndicesTable\">Ivory Coast</td>\\n    <td style=\"text-align: right\">54.61</td>\\n </tr>\\n <tr style=\"width: 100%\">\\n  <td></td>\\n    <td class=\"cityOrCountryInIndicesTable\">Ethiopia</td>\\n    <td style=\"text-align: right\">54.30</td>\\n </tr>\\n <tr style=\"width: 100%\">\\n  <td></td>\\n    <td class=\"cityOrCountryInIndicesTable\">Panama</td>\\n    <td style=\"text-align: right\">54.07</td>\\n </tr>\\n <tr style=\"width: 100%\">\\n  <td></td>\\n    <td class=\"cityOrCountryInIndicesTable\">Jamaica</td>\\n    <td style=\"text-align: right\">53.16</td>\\n </tr>\\n <tr style=\"width: 100%\">\\n  <td></td>\\n    <td class=\"cityOrCountryInIndicesTable\">Portugal</td>\\n    <td style=\"text-align: right\">52.88</td>\\n </tr>\\n <tr style=\"width: 100%\">\\n  <td></td>\\n    <td class=\"cityOrCountryInIndicesTable\">Latvia</td>\\n    <td style=\"text-align: right\">52.87</td>\\n </tr>\\n <tr style=\"width: 100%\">\\n  <td></td>\\n    <td class=\"cityOrCountryInIndicesTable\">Mauritius</td>\\n    <td style=\"text-align: right\">52.57</td>\\n </tr>\\n <tr style=\"width: 100%\">\\n  <td></td>\\n    <td class=\"cityOrCountryInIndicesTable\">Belize</td>\\n    <td style=\"text-align: right\">52.45</td>\\n </tr>\\n <tr style=\"width: 100%\">\\n  <td></td>\\n    <td class=\"cityOrCountryInIndicesTable\">Jordan</td>\\n    <td style=\"text-align: right\">52.17</td>\\n </tr>\\n <tr style=\"width: 100%\">\\n  <td></td>\\n    <td class=\"cityOrCountryInIndicesTable\">Suriname</td>\\n    <td style=\"text-align: right\">51.86</td>\\n </tr>\\n <tr style=\"width: 100%\">\\n  <td></td>\\n    <td class=\"cityOrCountryInIndicesTable\">Zimbabwe</td>\\n    <td style=\"text-align: right\">51.52</td>\\n </tr>\\n <tr style=\"width: 100%\">\\n  <td></td>\\n    <td class=\"cityOrCountryInIndicesTable\">Yemen</td>\\n    <td style=\"text-align: right\">51.46</td>\\n </tr>\\n <tr style=\"width: 100%\">\\n  <td></td>\\n    <td class=\"cityOrCountryInIndicesTable\">Uruguay</td>\\n    <td style=\"text-align: right\">51.09</td>\\n </tr>\\n <tr style=\"width: 100%\">\\n  <td></td>\\n    <td class=\"cityOrCountryInIndicesTable\">Costa Rica</td>\\n    <td style=\"text-align: right\">50.64</td>\\n </tr>\\n <tr style=\"width: 100%\">\\n  <td></td>\\n    <td class=\"cityOrCountryInIndicesTable\">Oman</td>\\n    <td style=\"text-align: right\">50.18</td>\\n </tr>\\n <tr style=\"width: 100%\">\\n  <td></td>\\n    <td class=\"cityOrCountryInIndicesTable\">Saudi Arabia</td>\\n    <td style=\"text-align: right\">49.95</td>\\n </tr>\\n <tr style=\"width: 100%\">\\n  <td></td>\\n    <td class=\"cityOrCountryInIndicesTable\">Kuwait</td>\\n    <td style=\"text-align: right\">49.40</td>\\n </tr>\\n <tr style=\"width: 100%\">\\n  <td></td>\\n    <td class=\"cityOrCountryInIndicesTable\">Brunei</td>\\n    <td style=\"text-align: right\">49.35</td>\\n </tr>\\n <tr style=\"width: 100%\">\\n  <td></td>\\n    <td class=\"cityOrCountryInIndicesTable\">Chile</td>\\n    <td style=\"text-align: right\">49.33</td>\\n </tr>\\n <tr style=\"width: 100%\">\\n  <td></td>\\n    <td class=\"cityOrCountryInIndicesTable\">Thailand</td>\\n    <td style=\"text-align: right\">49.32</td>\\n </tr>\\n <tr style=\"width: 100%\">\\n  <td></td>\\n    <td class=\"cityOrCountryInIndicesTable\">Czech Republic</td>\\n    <td style=\"text-align: right\">49.18</td>\\n </tr>\\n <tr style=\"width: 100%\">\\n  <td></td>\\n    <td class=\"cityOrCountryInIndicesTable\">Slovakia</td>\\n    <td style=\"text-align: right\">49.08</td>\\n </tr>\\n <tr style=\"width: 100%\">\\n  <td></td>\\n    <td class=\"cityOrCountryInIndicesTable\">Fiji</td>\\n    <td style=\"text-align: right\">48.54</td>\\n </tr>\\n <tr style=\"width: 100%\">\\n  <td></td>\\n    <td class=\"cityOrCountryInIndicesTable\">Cambodia</td>\\n    <td style=\"text-align: right\">47.91</td>\\n </tr>\\n <tr style=\"width: 100%\">\\n  <td></td>\\n    <td class=\"cityOrCountryInIndicesTable\">Lithuania</td>\\n    <td style=\"text-align: right\">47.66</td>\\n </tr>\\n <tr style=\"width: 100%\">\\n  <td></td>\\n    <td class=\"cityOrCountryInIndicesTable\">Guatemala</td>\\n    <td style=\"text-align: right\">44.76</td>\\n </tr>\\n <tr style=\"width: 100%\">\\n  <td></td>\\n    <td class=\"cityOrCountryInIndicesTable\">El Salvador</td>\\n    <td style=\"text-align: right\">44.57</td>\\n </tr>\\n <tr style=\"width: 100%\">\\n  <td></td>\\n    <td class=\"cityOrCountryInIndicesTable\">Nicaragua</td>\\n    <td style=\"text-align: right\">42.77</td>\\n </tr>\\n <tr style=\"width: 100%\">\\n  <td></td>\\n    <td class=\"cityOrCountryInIndicesTable\">Hungary</td>\\n    <td style=\"text-align: right\">42.75</td>\\n </tr>\\n <tr style=\"width: 100%\">\\n  <td></td>\\n    <td class=\"cityOrCountryInIndicesTable\">Cameroon</td>\\n    <td style=\"text-align: right\">42.57</td>\\n </tr>\\n <tr style=\"width: 100%\">\\n  <td></td>\\n    <td class=\"cityOrCountryInIndicesTable\">China</td>\\n    <td style=\"text-align: right\">42.54</td>\\n </tr>\\n <tr style=\"width: 100%\">\\n  <td></td>\\n    <td class=\"cityOrCountryInIndicesTable\">Honduras</td>\\n    <td style=\"text-align: right\">42.20</td>\\n </tr>\\n <tr style=\"width: 100%\">\\n  <td></td>\\n    <td class=\"cityOrCountryInIndicesTable\">Poland</td>\\n    <td style=\"text-align: right\">42.04</td>\\n </tr>\\n <tr style=\"width: 100%\">\\n  <td></td>\\n    <td class=\"cityOrCountryInIndicesTable\">South Africa</td>\\n    <td style=\"text-align: right\">41.69</td>\\n </tr>\\n <tr style=\"width: 100%\">\\n  <td></td>\\n    <td class=\"cityOrCountryInIndicesTable\">Dominican Republic</td>\\n    <td style=\"text-align: right\">41.54</td>\\n </tr>\\n <tr style=\"width: 100%\">\\n  <td></td>\\n    <td class=\"cityOrCountryInIndicesTable\">Montenegro</td>\\n    <td style=\"text-align: right\">41.43</td>\\n </tr>\\n <tr style=\"width: 100%\">\\n  <td></td>\\n    <td class=\"cityOrCountryInIndicesTable\">Iran</td>\\n    <td style=\"text-align: right\">41.34</td>\\n </tr>\\n <tr style=\"width: 100%\">\\n  <td></td>\\n    <td class=\"cityOrCountryInIndicesTable\">Namibia</td>\\n    <td style=\"text-align: right\">41.02</td>\\n </tr>\\n <tr style=\"width: 100%\">\\n  <td></td>\\n    <td class=\"cityOrCountryInIndicesTable\">Bulgaria</td>\\n    <td style=\"text-align: right\">40.92</td>\\n </tr>\\n <tr style=\"width: 100%\">\\n  <td></td>\\n    <td class=\"cityOrCountryInIndicesTable\">Philippines</td>\\n    <td style=\"text-align: right\">40.65</td>\\n </tr>\\n <tr style=\"width: 100%\">\\n  <td></td>\\n    <td class=\"cityOrCountryInIndicesTable\">Ghana</td>\\n    <td style=\"text-align: right\">40.63</td>\\n </tr>\\n <tr style=\"width: 100%\">\\n  <td></td>\\n    <td class=\"cityOrCountryInIndicesTable\">Botswana</td>\\n    <td style=\"text-align: right\">40.41</td>\\n </tr>\\n <tr style=\"width: 100%\">\\n  <td></td>\\n    <td class=\"cityOrCountryInIndicesTable\">Albania</td>\\n    <td style=\"text-align: right\">40.25</td>\\n </tr>\\n <tr style=\"width: 100%\">\\n  <td></td>\\n    <td class=\"cityOrCountryInIndicesTable\">Ecuador</td>\\n    <td style=\"text-align: right\">40.08</td>\\n </tr>\\n <tr style=\"width: 100%\">\\n  <td></td>\\n    <td class=\"cityOrCountryInIndicesTable\">Malaysia</td>\\n    <td style=\"text-align: right\">39.51</td>\\n </tr>\\n <tr style=\"width: 100%\">\\n  <td></td>\\n    <td class=\"cityOrCountryInIndicesTable\">Serbia</td>\\n    <td style=\"text-align: right\">39.19</td>\\n </tr>\\n <tr style=\"width: 100%\">\\n  <td></td>\\n    <td class=\"cityOrCountryInIndicesTable\">Bosnia And Herzegovina</td>\\n    <td style=\"text-align: right\">38.56</td>\\n </tr>\\n <tr style=\"width: 100%\">\\n  <td></td>\\n    <td class=\"cityOrCountryInIndicesTable\">Romania</td>\\n    <td style=\"text-align: right\">38.50</td>\\n </tr>\\n <tr style=\"width: 100%\">\\n  <td></td>\\n    <td class=\"cityOrCountryInIndicesTable\">Myanmar</td>\\n    <td style=\"text-align: right\">38.06</td>\\n </tr>\\n <tr style=\"width: 100%\">\\n  <td></td>\\n    <td class=\"cityOrCountryInIndicesTable\">Vietnam</td>\\n    <td style=\"text-align: right\">38.05</td>\\n </tr>\\n <tr style=\"width: 100%\">\\n  <td></td>\\n    <td class=\"cityOrCountryInIndicesTable\">Argentina</td>\\n    <td style=\"text-align: right\">37.87</td>\\n </tr>\\n <tr style=\"width: 100%\">\\n  <td></td>\\n    <td class=\"cityOrCountryInIndicesTable\">Indonesia</td>\\n    <td style=\"text-align: right\">37.44</td>\\n </tr>\\n <tr style=\"width: 100%\">\\n  <td></td>\\n    <td class=\"cityOrCountryInIndicesTable\">Somalia</td>\\n    <td style=\"text-align: right\">37.42</td>\\n </tr>\\n <tr style=\"width: 100%\">\\n  <td></td>\\n    <td class=\"cityOrCountryInIndicesTable\">Morocco</td>\\n    <td style=\"text-align: right\">36.85</td>\\n </tr>\\n <tr style=\"width: 100%\">\\n  <td></td>\\n    <td class=\"cityOrCountryInIndicesTable\">Kenya</td>\\n    <td style=\"text-align: right\">36.30</td>\\n </tr>\\n <tr style=\"width: 100%\">\\n  <td></td>\\n    <td class=\"cityOrCountryInIndicesTable\">Peru</td>\\n    <td style=\"text-align: right\">36.26</td>\\n </tr>\\n <tr style=\"width: 100%\">\\n  <td></td>\\n    <td class=\"cityOrCountryInIndicesTable\">Bolivia</td>\\n    <td style=\"text-align: right\">36.11</td>\\n </tr>\\n <tr style=\"width: 100%\">\\n  <td></td>\\n    <td class=\"cityOrCountryInIndicesTable\">Mozambique</td>\\n    <td style=\"text-align: right\">35.89</td>\\n </tr>\\n <tr style=\"width: 100%\">\\n  <td></td>\\n    <td class=\"cityOrCountryInIndicesTable\">Mexico</td>\\n    <td style=\"text-align: right\">35.05</td>\\n </tr>\\n <tr style=\"width: 100%\">\\n  <td></td>\\n    <td class=\"cityOrCountryInIndicesTable\">Tanzania</td>\\n    <td style=\"text-align: right\">34.60</td>\\n </tr>\\n <tr style=\"width: 100%\">\\n  <td></td>\\n    <td class=\"cityOrCountryInIndicesTable\">North Macedonia</td>\\n    <td style=\"text-align: right\">34.15</td>\\n </tr>\\n <tr style=\"width: 100%\">\\n  <td></td>\\n    <td class=\"cityOrCountryInIndicesTable\">Rwanda</td>\\n    <td style=\"text-align: right\">34.07</td>\\n </tr>\\n <tr style=\"width: 100%\">\\n  <td></td>\\n    <td class=\"cityOrCountryInIndicesTable\">Bangladesh</td>\\n    <td style=\"text-align: right\">33.31</td>\\n </tr>\\n <tr style=\"width: 100%\">\\n  <td></td>\\n    <td class=\"cityOrCountryInIndicesTable\">Mongolia</td>\\n    <td style=\"text-align: right\">33.17</td>\\n </tr>\\n <tr style=\"width: 100%\">\\n  <td></td>\\n    <td class=\"cityOrCountryInIndicesTable\">Russia</td>\\n    <td style=\"text-align: right\">33.17</td>\\n </tr>\\n <tr style=\"width: 100%\">\\n  <td></td>\\n    <td class=\"cityOrCountryInIndicesTable\">Iraq</td>\\n    <td style=\"text-align: right\">32.72</td>\\n </tr>\\n <tr style=\"width: 100%\">\\n  <td></td>\\n    <td class=\"cityOrCountryInIndicesTable\">Moldova</td>\\n    <td style=\"text-align: right\">32.68</td>\\n </tr>\\n <tr style=\"width: 100%\">\\n  <td></td>\\n    <td class=\"cityOrCountryInIndicesTable\">Uganda</td>\\n    <td style=\"text-align: right\">32.18</td>\\n </tr>\\n <tr style=\"width: 100%\">\\n  <td></td>\\n    <td class=\"cityOrCountryInIndicesTable\">Brazil</td>\\n    <td style=\"text-align: right\">31.82</td>\\n </tr>\\n <tr style=\"width: 100%\">\\n  <td></td>\\n    <td class=\"cityOrCountryInIndicesTable\">Armenia</td>\\n    <td style=\"text-align: right\">31.68</td>\\n </tr>\\n <tr style=\"width: 100%\">\\n  <td></td>\\n    <td class=\"cityOrCountryInIndicesTable\">Turkey</td>\\n    <td style=\"text-align: right\">31.48</td>\\n </tr>\\n <tr style=\"width: 100%\">\\n  <td></td>\\n    <td class=\"cityOrCountryInIndicesTable\">Sri Lanka</td>\\n    <td style=\"text-align: right\">31.28</td>\\n </tr>\\n <tr style=\"width: 100%\">\\n  <td></td>\\n    <td class=\"cityOrCountryInIndicesTable\">Colombia</td>\\n    <td style=\"text-align: right\">31.00</td>\\n </tr>\\n <tr style=\"width: 100%\">\\n  <td></td>\\n    <td class=\"cityOrCountryInIndicesTable\">Azerbaijan</td>\\n    <td style=\"text-align: right\">30.90</td>\\n </tr>\\n <tr style=\"width: 100%\">\\n  <td></td>\\n    <td class=\"cityOrCountryInIndicesTable\">Paraguay</td>\\n    <td style=\"text-align: right\">30.72</td>\\n </tr>\\n <tr style=\"width: 100%\">\\n  <td></td>\\n    <td class=\"cityOrCountryInIndicesTable\">Belarus</td>\\n    <td style=\"text-align: right\">30.69</td>\\n </tr>\\n <tr style=\"width: 100%\">\\n  <td></td>\\n    <td class=\"cityOrCountryInIndicesTable\">Egypt</td>\\n    <td style=\"text-align: right\">30.10</td>\\n </tr>\\n <tr style=\"width: 100%\">\\n  <td></td>\\n    <td class=\"cityOrCountryInIndicesTable\">Kazakhstan</td>\\n    <td style=\"text-align: right\">29.76</td>\\n </tr>\\n <tr style=\"width: 100%\">\\n  <td></td>\\n    <td class=\"cityOrCountryInIndicesTable\">Nigeria</td>\\n    <td style=\"text-align: right\">29.74</td>\\n </tr>\\n <tr style=\"width: 100%\">\\n  <td></td>\\n    <td class=\"cityOrCountryInIndicesTable\">Tunisia</td>\\n    <td style=\"text-align: right\">29.50</td>\\n </tr>\\n <tr style=\"width: 100%\">\\n  <td></td>\\n    <td class=\"cityOrCountryInIndicesTable\">Kosovo (Disputed Territory)</td>\\n    <td style=\"text-align: right\">29.40</td>\\n </tr>\\n <tr style=\"width: 100%\">\\n  <td></td>\\n    <td class=\"cityOrCountryInIndicesTable\">Ukraine</td>\\n    <td style=\"text-align: right\">29.21</td>\\n </tr>\\n <tr style=\"width: 100%\">\\n  <td></td>\\n    <td class=\"cityOrCountryInIndicesTable\">Syria</td>\\n    <td style=\"text-align: right\">29.03</td>\\n </tr>\\n <tr style=\"width: 100%\">\\n  <td></td>\\n    <td class=\"cityOrCountryInIndicesTable\">Nepal</td>\\n    <td style=\"text-align: right\">28.86</td>\\n </tr>\\n <tr style=\"width: 100%\">\\n  <td></td>\\n    <td class=\"cityOrCountryInIndicesTable\">Algeria</td>\\n    <td style=\"text-align: right\">28.31</td>\\n </tr>\\n <tr style=\"width: 100%\">\\n  <td></td>\\n    <td class=\"cityOrCountryInIndicesTable\">Zambia</td>\\n    <td style=\"text-align: right\">28.06</td>\\n </tr>\\n <tr style=\"width: 100%\">\\n  <td></td>\\n    <td class=\"cityOrCountryInIndicesTable\">Georgia</td>\\n    <td style=\"text-align: right\">28.05</td>\\n </tr>\\n <tr style=\"width: 100%\">\\n  <td></td>\\n    <td class=\"cityOrCountryInIndicesTable\">Uzbekistan</td>\\n    <td style=\"text-align: right\">27.12</td>\\n </tr>\\n <tr style=\"width: 100%\">\\n  <td></td>\\n    <td class=\"cityOrCountryInIndicesTable\">Afghanistan</td>\\n    <td style=\"text-align: right\">26.33</td>\\n </tr>\\n <tr style=\"width: 100%\">\\n  <td></td>\\n    <td class=\"cityOrCountryInIndicesTable\">India</td>\\n    <td style=\"text-align: right\">25.16</td>\\n </tr>\\n <tr style=\"width: 100%\">\\n  <td></td>\\n    <td class=\"cityOrCountryInIndicesTable\">Kyrgyzstan</td>\\n    <td style=\"text-align: right\">22.98</td>\\n </tr>\\n <tr style=\"width: 100%\">\\n  <td></td>\\n    <td class=\"cityOrCountryInIndicesTable\">Libya</td>\\n    <td style=\"text-align: right\">22.32</td>\\n </tr>\\n <tr style=\"width: 100%\">\\n  <td></td>\\n    <td class=\"cityOrCountryInIndicesTable\">Pakistan</td>\\n    <td style=\"text-align: right\">21.59</td>\\n </tr>\\n\\n    </tbody>\\n</table>\\n    <script>\\n    whenDocReady(function() {\\n    var t_t2 = $(\\'#t2\\').DataTable({\\n  \\'columnDefs\\': [ {\\n      \\'searchable\\': false,\\n      \\'orderable\\': false,\\n      \\'targets\\': 0\\n  } ],\\n        \\'paging\\': false,\\n        \\'order\\': [[ 2, \"desc\" ]]\\n,    });\\n    t_t2.on( \\'order.dt search.dt\\', function () {\\n        t_t2.column(0, {search:\\'applied\\', order:\\'applied\\'}).nodes().each( function (cell, i) {\\n            cell.innerHTML = i+1;\\n        } );\\n    } ).draw();\\n  });\\n</script>\\n\\n</div>\\n<div class=\"standard_margin\">\\n\\n\\n<!-- adngin-ad_bottom_real_end-0 -->\\n<div id=\"adngin-ad_bottom_real_end-0\"></div>\\n\\n\\n</div>\\n\\n<div style=\"display: flex;\" class=\"flex_for_limit_ad_start_container\"><div style=\"width: 100%; flex: 1; margin-right: 20px; \" class=\"limit_size_ad_right flex_left_limit_size_ad_right\">\\n<div class=\"standard_margin\">\\n<div class=\"chart_bar\"><script>\\n      google.load(\"visualization\", \"1\", {packages:[\"corechart\"]});\\n      google.setOnLoadCallback(rankings_curr);\\n      function rankings_curr() {\\n      var data = google.visualization.arrayToDataTable([\\n                [\\'City\\', \\'Cost of Living Index\\', { role: \\'style\\' }],\\n          [\\'United States\\', 71.92, \\'color: #4D89F9\\'],\\n          [\\'China\\', 42.54, \\'color: #4D89F9\\'],\\n          [\\'United Kingdom\\', 71.03, \\'color: #4D89F9\\'],\\n          [\\'Russia\\', 33.17, \\'color: #4D89F9\\'],\\n          [\\'Germany\\', 70.62, \\'color: #4D89F9\\'],\\n          [\\'France\\', 80.62, \\'color: #4D89F9\\'],\\n          [\\'Japan\\', 87.77, \\'color: #4D89F9\\'],\\n          [\\'Italy\\', 73.11, \\'color: #4D89F9\\'],\\n          [\\'Canada\\', 70.08, \\'color: #4D89F9\\']\\n        ]);\\n\\n        var options = {\\n          title: \\'Cost of Living Index By Country 2021\\', \\n          backgroundColor: \\'transparent\\',\\n          legend : { textStyle: { color : \\'#f1FDFE\\'}},\\n          fontName: \\'sans-serif\\' ,\\n          titleTextStyle: { fontSize: 14} ,\\n          chartArea: {left:50,top:35, right:10, bottom:50, width:\\'96%\\', height:\\'60%\\'  },\\n          vAxis: { minValue:0 }\\n\\n        };\\n\\n        var chart = new google.visualization.ColumnChart(document.getElementById(\\'rankings_curr_div\\'));\\n        chart.draw(data, options);\\n      }\\n    </script>\\n<div id=\"rankings_curr_div\" class=\"bar_chart_could_be_big\"></div></div>\\n</div>\\n\\n<div class=\"green_box relocation_links\">\\n<p>Other country rankings by Numbeo: \\n<ul>\\n<li><a href=\"https://www.numbeo.com/quality-of-life/rankings_by_country.jsp\">Quality of Life Index by Country 2021</a></li>\\n<li><a href=\"https://www.numbeo.com/crime/rankings_by_country.jsp\">Crime Index by Country 2021</a></li>\\n<li><a href=\"https://www.numbeo.com/health-care/rankings_by_country.jsp\">Health Care Index by Country 2021</a></li>\\n<li><a href=\"https://www.numbeo.com/pollution/rankings_by_country.jsp\">Pollution Index by Country 2021</a></li>\\n<li><a href=\"https://www.numbeo.com/property-investment/rankings_by_country.jsp\">Property Prices Index by Country 2021</a></li>\\n<li><a href=\"https://www.numbeo.com/traffic/rankings_by_country.jsp\">Traffic Index by Country 2021</a></li>\\n</ul>\\n</div>\\n<div class=\"green_box green_box_fit_content\">This page in other languages: <p><span class=\"pre_language_icon\"></span>\\n<img src=\"https://www.numbeo.com/images/flags/4x3/de.svg\" style=\"height: 16px; padding-right: 10px; \" class=\"icon_for_country\" alt=\"\"/><span class=\"other_lang\">Deutsch</span><span class=\"align_next_to_lang_icon\"><a href=\"https://de.numbeo.com/lebenshaltungskosten/ranking-nach-land\">Lebenshaltungskosten-Index nach Land 2021</a>\\n</span>\\n<br><span class=\"pre_language_icon\"></span>\\n<img src=\"https://www.numbeo.com/images/flags/4x3/pt.svg\" style=\"height: 16px; padding-right: 10px; \" class=\"icon_for_country\" alt=\"\"/><span class=\"other_lang\">Portugu\\xc3\\xaas</span><span class=\"align_next_to_lang_icon\"><a href=\"https://pt.numbeo.com/custo-de-vida/classifica%C3%A7%C3%B5es-por-pa%C3%ADs\">Indicador de Custo de Vida por Pa\\xc3\\xads 2021</a>\\n</span>\\n<br><span class=\"pre_language_icon\"></span>\\n<img src=\"https://www.numbeo.com/images/flags/4x3/it.svg\" style=\"height: 16px; padding-right: 10px; \" class=\"icon_for_country\" alt=\"\"/><span class=\"other_lang\">Italiano</span><span class=\"align_next_to_lang_icon\"><a href=\"https://it.numbeo.com/costo-della-vita/graduatoria-per-nazione\">Indice del Costo della Vita per Nazione 2021</a>\\n</span>\\n<br><span class=\"pre_language_icon\"></span>\\n<img src=\"https://www.numbeo.com/images/flags/4x3/fr.svg\" style=\"height: 16px; padding-right: 10px; \" class=\"icon_for_country\" alt=\"\"/><span class=\"other_lang\">Fran\\xc3\\xa7ais</span><span class=\"align_next_to_lang_icon\"><a href=\"https://fr.numbeo.com/co%C3%BBt-de-la-vie/classements-par-pays\">Indice du Co\\xc3\\xbbt de la Vie par Pays 2021</a>\\n</span>\\n<br><span class=\"pre_language_icon\"></span>\\n<img src=\"https://www.numbeo.com/images/flags/4x3/es.svg\" style=\"height: 16px; padding-right: 10px; \" class=\"icon_for_country\" alt=\"\"/><span class=\"other_lang\">Espa\\xc3\\xb1ol</span><span class=\"align_next_to_lang_icon\"><a href=\"https://es.numbeo.com/coste-de-vida/clasificaciones-por-pa%C3%ADs\">\\xc3\\x8dndice de Coste Vida por Pa\\xc3\\xads 2021</a>\\n</span>\\n</div>\\n</div><div style=\"width: 300px; text-align: right; vertical-align: top; padding-top: 12px\">\\n<!-- adngin-ad_next_to_distribution2-0 -->\\n<div id=\"adngin-ad_next_to_distribution2-0\"></div>\\n<div style=\"width: 290px; height: 40px; background-color: #fff; display: inline-block;\"> &nbsp;&nbsp; </div>\\n<!-- adngin-ad_after_prices_rect1-0 -->\\n<div id=\"adngin-ad_after_prices_rect1-0\"></div>\\n</div>\\n</div>\\n<!-- Column 1 end -->\\n\\n<br/>\\n<div class=\"footer_content\">\\n<a href=\"https://www.numbeo.com/common/about.jsp\">About</a><span class=\"footer_separator\"></span>\\n<a href=\"https://www.numbeo.com/common/in_the_news.jsp\">Press</a><span class=\"footer_separator\"></span>\\n<a href=\"https://www.numbeo.com/common/join_community.jsp\">Newsletter</a><span class=\"footer_separator\"></span>\\n<a href=\"https://www.numbeo.com/common/api.jsp\" rel=\"nofollow\">API</a><p>\\n<span style=\"font-style: italic\">\\nCopyright &copy; 2009-2021 Numbeo. Your use of this service is subject to our \\n<a href=\"https://www.numbeo.com/common/terms_of_use.jsp\">Terms of Use</a> and \\n<a href=\"https://www.numbeo.com/common/privacy.jsp\">Privacy Policy</a>\\n</span></p>\\n</div>\\n</div> <!-- end of innerWidth --> \\n\\n    </body>\\n</html>\\n\\n\\n\\n'"
            ]
          },
          "metadata": {
            "tags": []
          },
          "execution_count": 134
        }
      ]
    },
    {
      "cell_type": "code",
      "metadata": {
        "id": "YOqBLo2D2GHW"
      },
      "source": [
        "soup = BeautifulSoup(response.content, features = \"lxml\")"
      ],
      "execution_count": 135,
      "outputs": []
    },
    {
      "cell_type": "code",
      "metadata": {
        "colab": {
          "base_uri": "https://localhost:8080/"
        },
        "id": "7NnCQtCX2GX5",
        "outputId": "19d6714a-5f1c-4ed5-aab6-d778e55ad866"
      },
      "source": [
        "type(soup)"
      ],
      "execution_count": 136,
      "outputs": [
        {
          "output_type": "execute_result",
          "data": {
            "text/plain": [
              "bs4.BeautifulSoup"
            ]
          },
          "metadata": {
            "tags": []
          },
          "execution_count": 136
        }
      ]
    },
    {
      "cell_type": "code",
      "metadata": {
        "colab": {
          "base_uri": "https://localhost:8080/"
        },
        "id": "bk-c2ZSL2SLC",
        "outputId": "b1771eb5-f1c4-4d9f-acc0-1aeacb828c74"
      },
      "source": [
        "soup.p"
      ],
      "execution_count": 137,
      "outputs": [
        {
          "output_type": "execute_result",
          "data": {
            "text/plain": [
              "<p>\n",
              "<nav class=\"breadcrumb\" itemscope=\"\" itemtype=\"http://schema.org/BreadcrumbList\">\n",
              "<a class=\"discreet_link\" href=\"https://www.numbeo.com/common/\"><img alt=\"home\" class=\"image_without_border hide_smaller_than_600\" src=\"https://www.numbeo.com/images/home.png\"/></a><span itemprop=\"itemListElement\" itemscope=\"\" itemtype=\"http://schema.org/ListItem\">\n",
              "<a class=\"breadcrumb_link\" href=\"https://www.numbeo.com/cost-of-living/\" itemprop=\"item\"><span itemprop=\"name\">Cost of Living</span></a><meta content=\"1\" itemprop=\"position\"/>\n",
              "</span> <span style=\"font-size: 75%; display: inline-block;\">&gt;</span> <span itemprop=\"itemListElement\" itemscope=\"\" itemtype=\"http://schema.org/ListItem\">\n",
              "<a class=\"breadcrumb_link\" href=\"https://www.numbeo.com/cost-of-living/rankings_by_country.jsp\" itemprop=\"item\"><span itemprop=\"name\">Index by Country</span></a><meta content=\"2\" itemprop=\"position\"/>\n",
              "</span></nav>\n",
              "</p>"
            ]
          },
          "metadata": {
            "tags": []
          },
          "execution_count": 137
        }
      ]
    },
    {
      "cell_type": "code",
      "metadata": {
        "colab": {
          "base_uri": "https://localhost:8080/"
        },
        "id": "w_GfPq5x2nux",
        "outputId": "bf13cf1e-15f1-4e77-b281-f78a80b80611"
      },
      "source": [
        "paragraphs = soup.find_all('p')\n",
        "paragraphs"
      ],
      "execution_count": 138,
      "outputs": [
        {
          "output_type": "execute_result",
          "data": {
            "text/plain": [
              "[<p>\n",
              " <nav class=\"breadcrumb\" itemscope=\"\" itemtype=\"http://schema.org/BreadcrumbList\">\n",
              " <a class=\"discreet_link\" href=\"https://www.numbeo.com/common/\"><img alt=\"home\" class=\"image_without_border hide_smaller_than_600\" src=\"https://www.numbeo.com/images/home.png\"/></a><span itemprop=\"itemListElement\" itemscope=\"\" itemtype=\"http://schema.org/ListItem\">\n",
              " <a class=\"breadcrumb_link\" href=\"https://www.numbeo.com/cost-of-living/\" itemprop=\"item\"><span itemprop=\"name\">Cost of Living</span></a><meta content=\"1\" itemprop=\"position\"/>\n",
              " </span> <span style=\"font-size: 75%; display: inline-block;\">&gt;</span> <span itemprop=\"itemListElement\" itemscope=\"\" itemtype=\"http://schema.org/ListItem\">\n",
              " <a class=\"breadcrumb_link\" href=\"https://www.numbeo.com/cost-of-living/rankings_by_country.jsp\" itemprop=\"item\"><span itemprop=\"name\">Index by Country</span></a><meta content=\"2\" itemprop=\"position\"/>\n",
              " </span></nav>\n",
              " </p>, <p>You are looking at Cost of Living Index by country 2021.\n",
              " These indices are historical and they are published periodically. <br/> It's a snapshot of the current indices at a specific point in time.\n",
              " </p>, <p>Other country rankings by Numbeo: \n",
              " </p>, <p><span class=\"pre_language_icon\"></span>\n",
              " <img alt=\"\" class=\"icon_for_country\" src=\"https://www.numbeo.com/images/flags/4x3/de.svg\" style=\"height: 16px; padding-right: 10px; \"/><span class=\"other_lang\">Deutsch</span><span class=\"align_next_to_lang_icon\"><a href=\"https://de.numbeo.com/lebenshaltungskosten/ranking-nach-land\">Lebenshaltungskosten-Index nach Land 2021</a>\n",
              " </span>\n",
              " <br/><span class=\"pre_language_icon\"></span>\n",
              " <img alt=\"\" class=\"icon_for_country\" src=\"https://www.numbeo.com/images/flags/4x3/pt.svg\" style=\"height: 16px; padding-right: 10px; \"/><span class=\"other_lang\">Português</span><span class=\"align_next_to_lang_icon\"><a href=\"https://pt.numbeo.com/custo-de-vida/classifica%C3%A7%C3%B5es-por-pa%C3%ADs\">Indicador de Custo de Vida por País 2021</a>\n",
              " </span>\n",
              " <br/><span class=\"pre_language_icon\"></span>\n",
              " <img alt=\"\" class=\"icon_for_country\" src=\"https://www.numbeo.com/images/flags/4x3/it.svg\" style=\"height: 16px; padding-right: 10px; \"/><span class=\"other_lang\">Italiano</span><span class=\"align_next_to_lang_icon\"><a href=\"https://it.numbeo.com/costo-della-vita/graduatoria-per-nazione\">Indice del Costo della Vita per Nazione 2021</a>\n",
              " </span>\n",
              " <br/><span class=\"pre_language_icon\"></span>\n",
              " <img alt=\"\" class=\"icon_for_country\" src=\"https://www.numbeo.com/images/flags/4x3/fr.svg\" style=\"height: 16px; padding-right: 10px; \"/><span class=\"other_lang\">Français</span><span class=\"align_next_to_lang_icon\"><a href=\"https://fr.numbeo.com/co%C3%BBt-de-la-vie/classements-par-pays\">Indice du Coût de la Vie par Pays 2021</a>\n",
              " </span>\n",
              " <br/><span class=\"pre_language_icon\"></span>\n",
              " <img alt=\"\" class=\"icon_for_country\" src=\"https://www.numbeo.com/images/flags/4x3/es.svg\" style=\"height: 16px; padding-right: 10px; \"/><span class=\"other_lang\">Español</span><span class=\"align_next_to_lang_icon\"><a href=\"https://es.numbeo.com/coste-de-vida/clasificaciones-por-pa%C3%ADs\">Índice de Coste Vida por País 2021</a>\n",
              " </span>\n",
              " </p>, <p>\n",
              " <span style=\"font-style: italic\">\n",
              " Copyright © 2009-2021 Numbeo. Your use of this service is subject to our \n",
              " <a href=\"https://www.numbeo.com/common/terms_of_use.jsp\">Terms of Use</a> and \n",
              " <a href=\"https://www.numbeo.com/common/privacy.jsp\">Privacy Policy</a>\n",
              " </span></p>]"
            ]
          },
          "metadata": {
            "tags": []
          },
          "execution_count": 138
        }
      ]
    },
    {
      "cell_type": "code",
      "metadata": {
        "colab": {
          "base_uri": "https://localhost:8080/",
          "height": 35
        },
        "id": "I--kHRxj2Sbr",
        "outputId": "f3fc55d8-05ca-4705-a9b9-e54b9ad4fc05"
      },
      "source": [
        "soup.title.string"
      ],
      "execution_count": 139,
      "outputs": [
        {
          "output_type": "execute_result",
          "data": {
            "application/vnd.google.colaboratory.intrinsic+json": {
              "type": "string"
            },
            "text/plain": [
              "'Cost of Living Index by Country 2021'"
            ]
          },
          "metadata": {
            "tags": []
          },
          "execution_count": 139
        }
      ]
    },
    {
      "cell_type": "code",
      "metadata": {
        "colab": {
          "base_uri": "https://localhost:8080/"
        },
        "id": "Cq9G60lY2GoX",
        "outputId": "fe9f4851-3690-4ddc-e4a2-b1c903fe4a73"
      },
      "source": [
        "type(paragraphs)"
      ],
      "execution_count": 140,
      "outputs": [
        {
          "output_type": "execute_result",
          "data": {
            "text/plain": [
              "bs4.element.ResultSet"
            ]
          },
          "metadata": {
            "tags": []
          },
          "execution_count": 140
        }
      ]
    },
    {
      "cell_type": "code",
      "metadata": {
        "colab": {
          "base_uri": "https://localhost:8080/"
        },
        "id": "QPsIb0W_2fgb",
        "outputId": "14c86841-1cb9-4aa0-e773-47bc74b973f5"
      },
      "source": [
        "for element in paragraphs:\n",
        "  print(element.text) "
      ],
      "execution_count": 141,
      "outputs": [
        {
          "output_type": "stream",
          "text": [
            "\n",
            "\n",
            "\n",
            "Cost of Living\n",
            " > \n",
            "Index by Country\n",
            "\n",
            "\n",
            "You are looking at Cost of Living Index by country 2021.\n",
            "These indices are historical and they are published periodically.  It's a snapshot of the current indices at a specific point in time.\n",
            "\n",
            "Other country rankings by Numbeo: \n",
            "\n",
            "\n",
            "DeutschLebenshaltungskosten-Index nach Land 2021\n",
            "\n",
            "\n",
            "PortuguêsIndicador de Custo de Vida por País 2021\n",
            "\n",
            "\n",
            "ItalianoIndice del Costo della Vita per Nazione 2021\n",
            "\n",
            "\n",
            "FrançaisIndice du Coût de la Vie par Pays 2021\n",
            "\n",
            "\n",
            "EspañolÍndice de Coste Vida por País 2021\n",
            "\n",
            "\n",
            "\n",
            "\n",
            "Copyright © 2009-2021 Numbeo. Your use of this service is subject to our \n",
            "Terms of Use and \n",
            "Privacy Policy\n",
            "\n"
          ],
          "name": "stdout"
        }
      ]
    },
    {
      "cell_type": "code",
      "metadata": {
        "id": "jHS89XBr3Mq6",
        "colab": {
          "base_uri": "https://localhost:8080/"
        },
        "outputId": "2cae3709-04d7-4297-f20d-9c4fe40caea7"
      },
      "source": [
        "tables = soup.find_all('table', attrs= {'id' : 't2'})\n",
        "tables = soup.find('table', attrs={'id': 't2'})\n",
        "rows = tables.find_all('tr')\n",
        "\n",
        "\n",
        "table = []\n",
        "for line in tables.find_all('td'):\n",
        "  table.append(line.text)\n",
        "\n",
        "\n",
        "i = 0\n",
        "size = len(table)\n",
        "pays = input('Pays: ')\n",
        "while i < size:\n",
        "  if table[i] == pays:\n",
        "    print(table[i] + ' => ' + table[i + 1])\n",
        "  i+=1\n"
      ],
      "execution_count": 142,
      "outputs": [
        {
          "output_type": "stream",
          "text": [
            "Pays: Portugal\n",
            "Portugal => 52.88\n"
          ],
          "name": "stdout"
        }
      ]
    }
  ]
}